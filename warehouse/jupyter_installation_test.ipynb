{
 "cells": [
  {
   "cell_type": "code",
   "execution_count": null,
   "metadata": {
    "scrolled": true
   },
   "outputs": [],
   "source": [
    "!pip3 install notebook pandas matplotlib numpy sqlalchemy\n"
   ]
  },
  {
   "cell_type": "code",
   "execution_count": null,
   "metadata": {
    "vscode": {
     "languageId": "plaintext"
    }
   },
   "outputs": [],
   "source": [
    "import numpy as np\n",
    "import pandas as pd\n",
    "\n",
    "import matplotlib.pyplot as pit\n",
    "\n",
    "import json\n",
    "import requests\n"
   ]
  },
  {
   "cell_type": "code",
   "execution_count": null,
   "metadata": {},
   "outputs": [],
   "source": [
    "from pyspark.sql.types import StructType, StructField, FloatType, BooleanType\n",
    "from pyspark.sql.types import DoubleType, IntegerType, StringType\n",
    "import pyspark\n",
    "from pyspark import SQLContext\n"
   ]
  },
  {
   "cell_type": "code",
   "execution_count": null,
   "metadata": {},
   "outputs": [],
   "source": [
    "# Import Libraries\n",
    "\n",
    "# Setup the Configuration\n",
    "conf = pyspark.SparkConf()\n",
    "spark_context = SparkSession.builder.config(conf=conf).getOrCreate()\n",
    "sqlcontext = SQLContext(sc)\n",
    "# Setup the Schema\n",
    "schema = StructType(\n",
    "    [\n",
    "        StructField(\"User ID\", IntegerType(), True),\n",
    "        StructField(\"Username\", StringType(), True),\n",
    "        StructField(\"Browser\", StringType(), True),\n",
    "        StructField(\"OS\", StringType(), True),\n",
    "    ]\n",
    ")\n",
    "# Add Data\n",
    "data = [\n",
    "    (1580, \"Barry\", \"FireFox\", \"Windows\"),\n",
    "    (5820, \"Sam\", \"MS Edge\", \"Linux\"),\n",
    "    (2340, \"Harry\", \"Vivaldi\", \"Windows\"),\n",
    "    (7860, \"Albert\", \"Chrome\", \"Windows\"),\n",
    "    (1123, \"May\", \"Safari\", \"macOS\"),\n",
    "]\n",
    "# Setup the Data Frame\n",
    "user_data_df = sqlcontext.createDataFrame(data, schema=schema)\n"
   ]
  },
  {
   "cell_type": "code",
   "execution_count": null,
   "metadata": {},
   "outputs": [],
   "source": [
    "user_data_df.show()\n"
   ]
  }
 ],
 "metadata": {
  "kernelspec": {
   "display_name": "Python 3 (ipykernel)",
   "language": "python",
   "name": "python3"
  },
  "language_info": {
   "codemirror_mode": {
    "name": "ipython",
    "version": 3
   },
   "file_extension": ".py",
   "mimetype": "text/x-python",
   "name": "python",
   "nbconvert_exporter": "python",
   "pygments_lexer": "ipython3",
   "version": "3.12.9"
  }
 },
 "nbformat": 4,
 "nbformat_minor": 4
}
